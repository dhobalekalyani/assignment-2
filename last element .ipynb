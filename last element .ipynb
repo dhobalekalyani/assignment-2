{
 "cells": [
  {
   "cell_type": "code",
   "execution_count": 9,
   "id": "967292ec",
   "metadata": {},
   "outputs": [
    {
     "name": "stdout",
     "output_type": "stream",
     "text": [
      "sorted:\n",
      "[(2, 1), (1, 2), (2, 3), (4, 4), (2, 5)]\n"
     ]
    }
   ],
   "source": [
    "#Write a Python program to get a list, sorted in increasing order by the last element in each tuple from a given \n",
    "#list of non-empty tup\n",
    "\n",
    "def last(n):\n",
    "    return n[-1]\n",
    "def sort(tuples):\n",
    "    return sorted(tuples, key=last)\n",
    "b=[(2,5), (1,2), (4,4), (2,3), (2,1)]\n",
    "print(\"sorted:\")\n",
    "print(sort(b))\n"
   ]
  },
  {
   "cell_type": "code",
   "execution_count": null,
   "id": "0d08e1d9",
   "metadata": {},
   "outputs": [],
   "source": []
  }
 ],
 "metadata": {
  "kernelspec": {
   "display_name": "Python 3 (ipykernel)",
   "language": "python",
   "name": "python3"
  },
  "language_info": {
   "codemirror_mode": {
    "name": "ipython",
    "version": 3
   },
   "file_extension": ".py",
   "mimetype": "text/x-python",
   "name": "python",
   "nbconvert_exporter": "python",
   "pygments_lexer": "ipython3",
   "version": "3.9.13"
  }
 },
 "nbformat": 4,
 "nbformat_minor": 5
}
